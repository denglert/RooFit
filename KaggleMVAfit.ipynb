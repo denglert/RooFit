{
 "cells": [
  {
   "cell_type": "code",
   "execution_count": 1,
   "metadata": {
    "collapsed": false
   },
   "outputs": [],
   "source": [
    "import csv\n",
    "import numpy as np\n",
    "\n",
    "from matplotlib import pyplot\n",
    "%matplotlib inline"
   ]
  },
  {
   "cell_type": "code",
   "execution_count": 2,
   "metadata": {
    "collapsed": true
   },
   "outputs": [],
   "source": [
    "from sklearn.ensemble import AdaBoostClassifier\n",
    "from sklearn.tree import DecisionTreeClassifier"
   ]
  },
  {
   "cell_type": "code",
   "execution_count": 3,
   "metadata": {
    "collapsed": false
   },
   "outputs": [
    {
     "data": {
      "text/plain": [
       "(9999, 30)"
      ]
     },
     "execution_count": 3,
     "metadata": {},
     "output_type": "execute_result"
    }
   ],
   "source": [
    "inputfile = './training.csv'\n",
    "all = list(csv.reader(open(inputfile,\"rb\"), delimiter=','))\n",
    "X = np.asarray([row[1:-2] for row in all[1:10000]]).astype(np.float)\n",
    "y = np.asarray([row[-1] for row in all[1:10000]])\n",
    "y[y=='s'] = 1.\n",
    "y[y=='b'] = 0.\n",
    "w = np.asarray([row[-2] for row in all[1:10000]]).astype(np.float)\n",
    "X.shape"
   ]
  },
  {
   "cell_type": "code",
   "execution_count": 4,
   "metadata": {
    "collapsed": false,
    "scrolled": true
   },
   "outputs": [
    {
     "data": {
      "text/plain": [
       "AdaBoostClassifier(algorithm='SAMME.R',\n",
       "          base_estimator=DecisionTreeClassifier(class_weight=None, criterion='gini', max_depth=10,\n",
       "            max_features=None, max_leaf_nodes=None, min_samples_leaf=1,\n",
       "            min_samples_split=2, min_weight_fraction_leaf=0.0,\n",
       "            presort=False, random_state=None, splitter='best'),\n",
       "          learning_rate=1.0, n_estimators=200, random_state=None)"
      ]
     },
     "execution_count": 4,
     "metadata": {},
     "output_type": "execute_result"
    }
   ],
   "source": [
    "# Create and fit an AdaBoosted decision tree\n",
    "bdt = AdaBoostClassifier(DecisionTreeClassifier(max_depth=10),\n",
    "                         algorithm=\"SAMME.R\",\n",
    "                         n_estimators=200)\n",
    "bdt.fit(X, y)"
   ]
  },
  {
   "cell_type": "code",
   "execution_count": 5,
   "metadata": {
    "collapsed": false
   },
   "outputs": [
    {
     "data": {
      "image/png": "[encoded data removed]",
      "text/plain": [
       "<matplotlib.figure.Figure at 0x7fcee9814e10>"
      ]
     },
     "metadata": {},
     "output_type": "display_data"
    }
   ],
   "source": [
    "inputfile = './training.csv'\n",
    "all = list(csv.reader(open(inputfile,\"rb\"), delimiter=','))\n",
    "sX = np.asarray([row[1:-2] for row in all[1:] if row[-1]=='s']).astype(np.float)\n",
    "bX = np.asarray([row[1:-2] for row in all[1:] if row[-1]=='b']).astype(np.float)\n",
    "signal_output = bdt.decision_function(sX)\n",
    "background_output = bdt.decision_function(bX)\n",
    "plot_range = (min(signal_output.min(),background_output.min()), max(signal_output.max(),background_output.max()))\n",
    "fig = pyplot.figure()\n",
    "pyplot.hist(signal_output, bins=21, range=plot_range, alpha=0.75, facecolor = \"r\", label=\"Signal\")\n",
    "pyplot.hist(background_output, bins=21, range=plot_range, alpha=0.75, facecolor = \"b\", label=\"Background\")\n",
    "pyplot.legend(loc='upper right')\n",
    "pyplot.ylabel('Events/bin')\n",
    "pyplot.xlabel('BDT Output')\n",
    "pyplot.show()"
   ]
  },
  {
   "cell_type": "code",
   "execution_count": 106,
   "metadata": {
    "collapsed": false
   },
   "outputs": [
    {
     "name": "stderr",
     "output_type": "stream",
     "text": [
      "/cvmfs/sft.cern.ch/lcg/views/LCG_87/x86_64-slc6-gcc49-opt/lib/python2.7/site-packages/ipykernel/__main__.py:11: VisibleDeprecationWarning: boolean index did not match indexed array along dimension 0; dimension is 250000 but corresponding boolean dimension is 39573\n",
      "/cvmfs/sft.cern.ch/lcg/views/LCG_87/x86_64-slc6-gcc49-opt/lib/python2.7/site-packages/ipykernel/__main__.py:12: VisibleDeprecationWarning: boolean index did not match indexed array along dimension 0; dimension is 250000 but corresponding boolean dimension is 39573\n",
      "/cvmfs/sft.cern.ch/lcg/views/LCG_87/x86_64-slc6-gcc49-opt/lib/python2.7/site-packages/ipykernel/__main__.py:13: VisibleDeprecationWarning: boolean index did not match indexed array along dimension 0; dimension is 250000 but corresponding boolean dimension is 39573\n"
     ]
    }
   ],
   "source": [
    "data_train = np.loadtxt( 'training.csv', delimiter=',', skiprows=1, converters={32: lambda x:int(x=='s'.encode('utf-8')) } )\n",
    "data_test = np.loadtxt( 'test.csv', delimiter=',', skiprows=1 )\n",
    "Y_train = data_train[:,32]\n",
    "X_train = data_train[:,1:31]\n",
    "W_train = data_train[:,31]\n",
    "X_test = data_test[:,1:31]\n",
    "\n",
    "mjj = data_train[:,6]\n",
    "deta= data_train[:,5][mjj>200]\n",
    "\n",
    "X_train = X_train[deta>2]\n",
    "Y_train = Y_train[deta>2]\n",
    "W_train = W_train[deta>2]"
   ]
  },
  {
   "cell_type": "code",
   "execution_count": 137,
   "metadata": {
    "collapsed": true
   },
   "outputs": [],
   "source": [
    "prob_predict_train = bdt.predict_proba(X_train)[:,1]\n",
    "pcut = np.percentile(prob_predict_train,80)"
   ]
  },
  {
   "cell_type": "code",
   "execution_count": 152,
   "metadata": {
    "collapsed": false
   },
   "outputs": [],
   "source": [
    "Classifier_training_S = (bdt.predict_proba(X_train[Y_train>0.5])[:,1].ravel(),W_train[Y_train>0.5][:].ravel())\n",
    "Classifier_training_B = (bdt.predict_proba(X_train[Y_train<0.5])[:,1].ravel(),W_train[Y_train<0.5][:].ravel())\n",
    "Classifier_testing_A = bdt.predict_proba(X_test)[:,1].ravel()"
   ]
  },
  {
   "cell_type": "code",
   "execution_count": 153,
   "metadata": {
    "collapsed": false
   },
   "outputs": [],
   "source": [
    "c_max = max([Classifier_training_S[0].max(),Classifier_training_B[0].max(),Classifier_testing_A.max()])\n",
    "c_min = min([Classifier_training_S[0].min(),Classifier_training_B[0].min(),Classifier_testing_A.min()])\n",
    "Histo_training_S = np.histogram(Classifier_training_S[0],bins=25,range=(c_min,c_max),weights=10*Classifier_training_S[1])\n",
    "Histo_training_B = np.histogram(Classifier_training_B[0],bins=25,range=(c_min,c_max),weights=Classifier_training_B[1])\n",
    "Histo_testing_A = np.histogram(Classifier_testing_A,bins=25,range=(c_min,c_max))\n",
    "\n",
    "AllHistos= [Histo_training_S,Histo_training_B]\n",
    "h_max = max([histo[0].max() for histo in AllHistos])*1.2\n",
    "h_min = min([histo[0].min() for histo in AllHistos])\n",
    "\n",
    "bin_edges = Histo_training_S[1]\n",
    "bin_centers = ( bin_edges[:-1] + bin_edges[1:]  ) /2.\n",
    "bin_widths = (bin_edges[1:] - bin_edges[:-1])\n",
    "\n",
    "# To make error bar plots for the data, take the Poisson uncertainty sqrt(N)\n",
    "ErrorBar_testing_A = np.sqrt(Histo_testing_A[0])"
   ]
  },
  {
   "cell_type": "code",
   "execution_count": 154,
   "metadata": {
    "collapsed": false
   },
   "outputs": [
    {
     "data": {
      "image/png": "[encoded data removed]",
      "text/plain": [
       "<matplotlib.figure.Figure at 0x7fcee0422610>"
      ]
     },
     "metadata": {},
     "output_type": "display_data"
    }
   ],
   "source": [
    "ax1 = pyplot.subplot(111)\n",
    "# Draw solid histograms for the training data\n",
    "ax1.bar(bin_centers-bin_widths/2.,Histo_training_B[0],facecolor='red',linewidth=0,width=bin_widths,label='Background',alpha=0.5,log=True)\n",
    "ax1.bar(bin_centers-bin_widths/2.,Histo_training_S[0],bottom=Histo_training_B[0],facecolor='blue',linewidth=0,width=bin_widths,label='Signal',alpha=0.5,log=True)\n",
    " \n",
    "ff = (1.0*sum(W_train))/(1.0*len(X_test))\n",
    " \n",
    "# # Draw error-bar histograms for the testing data\n",
    "#ax1.errorbar(bin_centers, ff*Histo_testing_A[0], yerr=ff*ErrorBar_testing_A, xerr=None, ecolor='black',c='black',fmt='.',label='Test (reweighted)')\n",
    "# ax1.errorbar(bin_centers, Histo_testing_B[0], yerr=ErrorBar_testing_B, xerr=None, ecolor='red',c='red',fmt='o',label='B (Test)')\n",
    "cutbin = pcut-(pcut%bin_widths[0])\n",
    "# Make a colorful backdrop to show the clasification regions in red and blue\n",
    "ax1.axvspan(cutbin, c_max, color='blue',alpha=0.08)\n",
    "ax1.axvspan(c_min, cutbin, color='red',alpha=0.08)\n",
    "  \n",
    "# Adjust the axis boundaries (just cosmetic)\n",
    "ax1.axis([c_min, c_max, h_min, h_max])\n",
    "# Make labels and title\n",
    "#pyplot.title(\"Kaggle Higgs Machine Learning Challenge Signal-Background Separation\")\n",
    "pyplot.xlabel(\"Probability Output (Boosted Descision Tree)\",fontsize='large')\n",
    "pyplot.ylabel(\"Counts/Bin\",fontsize='large')\n",
    " \n",
    "# Make legend with smalll font\n",
    "legend = ax1.legend(loc='upper center',ncol=2)\n",
    "for alabel in legend.get_texts():\n",
    "            alabel.set_fontsize('large')\n",
    "  \n",
    "# Save the result to png\n",
    "pyplot.savefig(\"VBF_bdt.pdf\")"
   ]
  },
  {
   "cell_type": "code",
   "execution_count": 148,
   "metadata": {
    "collapsed": false
   },
   "outputs": [],
   "source": [
    "SR_s = ([event[0] for event in zip(Classifier_training_S[0],Classifier_training_S[1]) if event[0]>pcut],\n",
    "        [event[1]*10 for event in zip(Classifier_training_S[0],Classifier_training_S[1]) if event[0]>pcut])\n",
    "SR_b = ([event[0] for event in zip(Classifier_training_B[0],Classifier_training_B[1]) if event[0]>pcut],\n",
    "        [event[1] for event in zip(Classifier_training_B[0],Classifier_training_B[1]) if event[0]>pcut])"
   ]
  },
  {
   "cell_type": "code",
   "execution_count": 149,
   "metadata": {
    "collapsed": false
   },
   "outputs": [],
   "source": [
    "c_min=pcut\n",
    "c_max=1.\n",
    "\n",
    "Histo_SR_S = np.histogram(SR_s[0],bins=5,range=(c_min,c_max),weights=SR_s[1])\n",
    "Histo_SR_B = np.histogram(SR_b[0],bins=5,range=(c_min,c_max),weights=SR_b[1])\n",
    "AllHistos= [Histo_SR_S,Histo_SR_B]\n",
    "h_max = max([histo[0].max() for histo in AllHistos])*1.2\n",
    "h_min = min([histo[0].min() for histo in AllHistos])\n",
    "\n",
    "bin_edges = Histo_SR_S[1]\n",
    "bin_centers = ( bin_edges[:-1] + bin_edges[1:]  ) /2.\n",
    "bin_widths = (bin_edges[1:] - bin_edges[:-1])"
   ]
  },
  {
   "cell_type": "code",
   "execution_count": 151,
   "metadata": {
    "collapsed": false
   },
   "outputs": [
    {
     "data": {
      "image/png": "[encoded data removed]",
      "text/plain": [
       "<matplotlib.figure.Figure at 0x7fcee4e8bbd0>"
      ]
     },
     "metadata": {},
     "output_type": "display_data"
    }
   ],
   "source": [
    "ax1 = pyplot.subplot(111)\n",
    "N_background = sum(SR_b[1])\n",
    "N_signal = sum(SR_s[1])\n",
    "# Draw solid histograms for the training data\n",
    "ax1.bar(bin_centers-bin_widths/2.,Histo_SR_B[0],facecolor='red',linewidth=0,width=bin_widths,label='B ({0:.0f} events)'.format(N_background),alpha=0.5)\n",
    "ax1.bar(bin_centers-bin_widths/2.,Histo_SR_S[0],bottom=Histo_SR_B[0],facecolor='blue',linewidth=0,width=bin_widths,label='S ({0:.0f} events)'.format(N_signal),alpha=0.5)\n",
    " \n",
    "ax1.axvspan(pcut, c_max, color='blue',alpha=0.08)\n",
    "#ax1.axvspan(c_min,pcut, color='red',alpha=0.08)\n",
    "\n",
    "# Adjust the axis boundaries (just cosmetic)\n",
    "ax1.axis([c_min, c_max, h_min, h_max])\n",
    "# Make labels and title\n",
    "#pyplot.title(\"Kaggle Higgs Machine Learning Challenge Signal-Background Separation\")\n",
    "pyplot.xlabel(\"Probability Output (Boosted Descision Tree)\",fontsize='large')\n",
    "pyplot.ylabel(\"Counts/Bin\",fontsize='large')\n",
    " \n",
    "# Make legend with smalll font\n",
    "legend = ax1.legend(loc='upper center',ncol=1)\n",
    "for alabel in legend.get_texts():\n",
    "            alabel.set_fontsize('large')\n",
    "  \n",
    "# Save the result to png\n",
    "pyplot.savefig(\"SR_bdt.pdf\")"
   ]
  },
  {
   "cell_type": "code",
   "execution_count": null,
   "metadata": {
    "collapsed": true
   },
   "outputs": [],
   "source": []
  }
 ],
 "metadata": {
  "kernelspec": {
   "display_name": "Python 2",
   "language": "python",
   "name": "python2"
  },
  "language_info": {
   "codemirror_mode": {
    "name": "ipython",
    "version": 2
   },
   "file_extension": ".py",
   "mimetype": "text/x-python",
   "name": "python",
   "nbconvert_exporter": "python",
   "pygments_lexer": "ipython2",
   "version": "2.7.10"
  }
 },
 "nbformat": 4,
 "nbformat_minor": 0
}
