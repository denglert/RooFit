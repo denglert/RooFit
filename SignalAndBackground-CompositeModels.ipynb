{
 "cells": [
  {
   "cell_type": "markdown",
   "metadata": {},
   "source": [
    "# Signal and Background - Composite Models"
   ]
  },
  {
   "cell_type": "markdown",
   "metadata": {},
   "source": [
    "Data science is a broad field where similar techniques can be applied to a small set of fundamental questions. One of these key questions is that of classification; Is an instance of your data set, one event, a signal or a background? In high energy physics, as in most fields, isolating just the desired measurements is a non trivial matter and in many cases is impossible. Instead we must construct a composite model, one that combines signal and one or more types of background.  "
   ]
  },
  {
   "cell_type": "markdown",
   "metadata": {},
   "source": [
    "A composite model *M(x)* is constructed from a model *S(x)* describing signal and *B(x)* describing background as \n",
    "$$M(x) = fS(x)+(1-f)B(x)$$\n",
    "Where f is the fraction of events in the sample that are signal-like. The generic expression for a sum of N hypotheses is;\n",
    "$$M(x)=\\sum_{i=1}^{N-1}f_1F_1(x)+\\left(1-\\sum_{i=1}^{N-1}f_i\\right)F_N(x)$$\n",
    "Adding p.d.f's in this was means that *M(x)* does not need to be explicitly normalized to one since if S(x) and B(x) are normalized to one then M(x) is by construction also normalised to one. "
   ]
  },
  {
   "cell_type": "markdown",
   "metadata": {},
   "source": [
    "## Extended Likelihood Formalism"
   ]
  },
  {
   "cell_type": "markdown",
   "metadata": {},
   "source": [
    "Often we would rather express a mesurement as a number of events rather than a fraction. i.e.\n",
    "$$M_E(x)=N_sS(x)+N_BB(X)$$\n",
    "Where $M_E(X)$ is normalised to $N_S+N_B = N$ instead of one. This means that $M_E(x)$ is not a true p.d.f. but rather an expression for two quantities, the shape and the number of events in the distributions.\n",
    "$$M(x)=\\left(\\frac{N_S}{N_S+N_N}\\right)S(x)+\\left(\\frac{N_B}{N_S+N_B}\\right)B(X)$$\n",
    "$$N_{expected}=N_S+N_B$$\n",
    "Can be jointly constrained in the extended likelihood formalism:\n",
    "$$-\\log L(p)=-\\sum_{data}\\log M(x_i)-\\log Poisson(N_{expected},N_{observerd})$$\n",
    "In roofit the regular sums are represented by the RooAddPdf class that will automatically construct the extended likelihood term in the latter case. "
   ]
  },
  {
   "cell_type": "markdown",
   "metadata": {},
   "source": [
    "## Building Composite Models with Fractions"
   ]
  },
  {
   "cell_type": "markdown",
   "metadata": {},
   "source": [
    "The first example is a plain composite model. I.e. using real p.d.f's not extended."
   ]
  },
  {
   "cell_type": "code",
   "execution_count": 1,
   "metadata": {
    "collapsed": false
   },
   "outputs": [
    {
     "data": {
      "application/javascript": [
       "require(['codemirror/mode/clike/clike'], function(Clike) { console.log('ROOTaaS - C++ CodeMirror module loaded'); });"
      ]
     },
     "metadata": {},
     "output_type": "display_data"
    },
    {
     "data": {
      "application/javascript": [
       "IPython.CodeCell.config_defaults.highlight_modes['magic_text/x-c++src'] = {'reg':[/^%%cpp/]};"
      ]
     },
     "metadata": {},
     "output_type": "display_data"
    },
    {
     "name": "stdout",
     "output_type": "stream",
     "text": [
      "Welcome to ROOTaaS 6.06/00\n"
     ]
    }
   ],
   "source": [
    "import ROOT\n",
    "import rootnotes\n",
    "c1=rootnotes.default_canvas()"
   ]
  },
  {
   "cell_type": "code",
   "execution_count": 2,
   "metadata": {
    "collapsed": false
   },
   "outputs": [
    {
     "name": "stdout",
     "output_type": "stream",
     "text": [
      "\r\n",
      "\u001b[1mRooFit v3.60 -- Developed by Wouter Verkerke and David Kirkby\u001b[0m \r\n",
      "                Copyright (C) 2000-2013 NIKHEF, University of California & Stanford University\r\n",
      "                All rights reserved, please read http://roofit.sourceforge.net/license.txt\r\n",
      "\r\n"
     ]
    }
   ],
   "source": [
    "x = ROOT.RooRealVar(\"x\",\"x\",-10,10)\n",
    "\n",
    "mean = ROOT.RooRealVar(\"mean\",\"mean\",0,-10,10)\n",
    "sigma = ROOT.RooRealVar(\"sigma\",\"sigma\",2,0.,10)\n",
    "sig = ROOT.RooGaussian(\"sig\",\"signal p.d.f.\",x,mean,sigma)\n",
    "\n",
    "coef0 = ROOT.RooRealVar(\"c0\",\"coefficient #0\",1.0,-1.,1)\n",
    "coef1 = ROOT.RooRealVar(\"c1\",\"coefficient #1\",0.1,-1.,1)\n",
    "coef2 = ROOT.RooRealVar(\"c2\",\"coefficient #2\",-0.1,-1.,1)\n",
    "bkg = ROOT.RooChebychev(\"bkg\",\"background p.d.f.\",x,ROOT.RooArgList(coef0,coef1,coef2))\n",
    "\n",
    "fsig = ROOT.RooRealVar(\"fsig\",\"signal fraction\",0.5,0.,1.)\n",
    "\n",
    "# model(x) = fsig*sig(x) + (1-fsig)*bkg(x)\n",
    "model = ROOT.RooAddPdf(\"model\",\"model\",ROOT.RooArgList(sig,bkg),ROOT.RooArgList(fsig))"
   ]
  },
  {
   "cell_type": "markdown",
   "metadata": {},
   "source": [
    "Here we define two p.d.f's and then create a model which is the sum of the two. "
   ]
  },
  {
   "cell_type": "code",
   "execution_count": 3,
   "metadata": {
    "collapsed": false
   },
   "outputs": [
    {
     "data": {
      "image/png": "[encoded data removed]",
      "text/plain": [
       "<ROOT.TCanvas object (\"icanvas\") at 0x115b55d00>"
      ]
     },
     "execution_count": 3,
     "metadata": {},
     "output_type": "execute_result"
    },
    {
     "name": "stderr",
     "output_type": "stream",
     "text": [
      "Info in <TCanvas::Print>: png file /var/folders/sk/t5qncxyd1gjg61whtngc502r0000gn/T/tmpZwN5Jn.png has been created\r\n"
     ]
    }
   ],
   "source": [
    "xframe = x.frame(ROOT.RooFit.Title(\"Composite Model\"))\n",
    "model.plotOn(xframe)\n",
    "xframe.Draw()\n",
    "c1"
   ]
  },
  {
   "cell_type": "markdown",
   "metadata": {},
   "source": [
    "Here we have specified that the models are combined with a fraction of the two = 0.5 but what happens if we change this fraction (*fsig*) ?"
   ]
  },
  {
   "cell_type": "code",
   "execution_count": 4,
   "metadata": {
    "collapsed": false
   },
   "outputs": [
    {
     "data": {
      "image/png": "[encoded data removed]",
      "text/plain": [
       "<ROOT.TCanvas object (\"icanvas\") at 0x115b55d00>"
      ]
     },
     "execution_count": 4,
     "metadata": {},
     "output_type": "execute_result"
    },
    {
     "name": "stderr",
     "output_type": "stream",
     "text": [
      "Info in <TCanvas::Print>: png file /var/folders/sk/t5qncxyd1gjg61whtngc502r0000gn/T/tmphNT7Ks.png has been created\r\n"
     ]
    }
   ],
   "source": [
    "fsig2 = ROOT.RooRealVar(\"fsig2\",\"new signal fraction\",0.1,0.,1.)\n",
    "model2 = ROOT.RooAddPdf(\"model2\",\"model with less signal\",ROOT.RooArgList(sig,bkg),ROOT.RooArgList(fsig2))\n",
    "xframe = x.frame(ROOT.RooFit.Title(\"Composite Model with Less Signal\"))\n",
    "model2.plotOn(xframe)\n",
    "xframe.Draw()\n",
    "c1"
   ]
  },
  {
   "cell_type": "markdown",
   "metadata": {},
   "source": [
    "A RooAddPdf instance can also be used to add together more components, for example we can add a third pdf, called bkg_peak, or even add them recursively"
   ]
  },
  {
   "cell_type": "code",
   "execution_count": null,
   "metadata": {
    "collapsed": false
   },
   "outputs": [],
   "source": [
    "# model2(x) = fsig*sig(x) + fbkg1*bkg1(x) + (1-fsig-fbkg)*bkg2(x)\n",
    "model2 = ROOT.RooAddPdf(\"model2\",\"model2\",ROOT.RooArgList(sig,bkg1,bkg2),ROOT.RooArgList(fsig,fbkg1))"
   ]
  },
  {
   "cell_type": "markdown",
   "metadata": {},
   "source": [
    "However then we must be careful which fraction compares to what"
   ]
  },
  {
   "cell_type": "code",
   "execution_count": 5,
   "metadata": {
    "collapsed": false
   },
   "outputs": [],
   "source": [
    "# this is for the third peak\n",
    "mean_bkg = ROOT.RooRealVar(\"mean_bkg\",\"mean\",0,-10,10)\n",
    "sigma_bkg = ROOT.RooRealVar(\"sigma_bkg\",\"sigma\",2,0.,10.)\n",
    "bkg_peak = ROOT.RooGaussian(\"bkg_peak\",\"peaking bkg p.d.f\",x,mean_bkg,sigma_bkg)\n",
    "\n",
    "# first add the sig and the peak together with fraction fpeak\n",
    "fpeak = ROOT.RooRealVar(\"fpeak\",\"peaking background fraction\",0.1,0.,1.)\n",
    "sigpeak = ROOT.RooAddPdf(\"sigpeak\",\"sig+peaking background\",ROOT.RooArgList(bkg_peak,sig),ROOT.RooArgList(fpeak))\n",
    "\n",
    "# now we can add (sig+peak) to bkg with the fraction fpeak\n",
    "fbkg = ROOT.RooRealVar(\"fbkg\",\"background fraction\",0.5,0.,1.)\n",
    "model2 = ROOT.RooAddPdf(\"model2\",\"bkg+(sig+peak)\",ROOT.RooArgList(bkg,sigpeak),ROOT.RooArgList(fbkg))"
   ]
  },
  {
   "cell_type": "code",
   "execution_count": 6,
   "metadata": {
    "collapsed": false,
    "scrolled": true
   },
   "outputs": [
    {
     "data": {
      "image/png": "[encoded data removed]",
      "text/plain": [
       "<ROOT.TCanvas object (\"icanvas\") at 0x115b55d00>"
      ]
     },
     "execution_count": 6,
     "metadata": {},
     "output_type": "execute_result"
    },
    {
     "name": "stderr",
     "output_type": "stream",
     "text": [
      "Info in <TCanvas::Print>: png file /var/folders/sk/t5qncxyd1gjg61whtngc502r0000gn/T/tmpaiZeKg.png has been created\r\n"
     ]
    }
   ],
   "source": [
    "xframe = x.frame(ROOT.RooFit.Title(\"Composite Model with 3 pdfs\"))\n",
    "model2.plotOn(xframe)\n",
    "xframe.Draw()\n",
    "c1"
   ]
  },
  {
   "cell_type": "markdown",
   "metadata": {},
   "source": [
    "This final p.d.f model represents the following expression\n",
    "$$M(x)=f_{bkg}B(x)+(1-f_bkg)\\{ f_{peak}P(x)+(1-f_{peak}S(x) \\}$$"
   ]
  },
  {
   "cell_type": "markdown",
   "metadata": {},
   "source": [
    "This is also possible to pass to RooAddPdf with the instruction that fraction coeficcients are recursive"
   ]
  },
  {
   "cell_type": "code",
   "execution_count": 7,
   "metadata": {
    "collapsed": false
   },
   "outputs": [
    {
     "data": {
      "image/png": "[encoded data removed]",
      "text/plain": [
       "<ROOT.TCanvas object (\"icanvas\") at 0x115b55d00>"
      ]
     },
     "execution_count": 7,
     "metadata": {},
     "output_type": "execute_result"
    },
    {
     "name": "stderr",
     "output_type": "stream",
     "text": [
      "Info in <TCanvas::Print>: png file /var/folders/sk/t5qncxyd1gjg61whtngc502r0000gn/T/tmpZuUbeP.png has been created\r\n"
     ]
    }
   ],
   "source": [
    "model = ROOT.RooAddPdf(\"model\",\"bkg+(sig+peak)\",ROOT.RooArgList(bkg,bkg_peak,sig),ROOT.RooArgList(fbkg,fpeak),ROOT.kTRUE)\n",
    "\n",
    "xframe = x.frame(ROOT.RooFit.Title(\"3 pdfs with recursive fractions\"))\n",
    "model.plotOn(xframe)\n",
    "xframe.Draw()\n",
    "c1"
   ]
  },
  {
   "cell_type": "markdown",
   "metadata": {
    "collapsed": true
   },
   "source": [
    "## Plotting Composite Models"
   ]
  },
  {
   "cell_type": "markdown",
   "metadata": {},
   "source": [
    "This modular stucture of a composite p.d.f allows plotting of the different components in an intuative way."
   ]
  },
  {
   "cell_type": "code",
   "execution_count": 8,
   "metadata": {
    "collapsed": false
   },
   "outputs": [
    {
     "data": {
      "image/png": "[encoded data removed]",
      "text/plain": [
       "<ROOT.TCanvas object (\"icanvas\") at 0x115b55d00>"
      ]
     },
     "execution_count": 8,
     "metadata": {},
     "output_type": "execute_result"
    },
    {
     "name": "stdout",
     "output_type": "stream",
     "text": [
      "[#1] INFO:Plotting -- RooAbsPdf::plotOn(model) directly selected PDF components: (bkg)\r\n",
      "[#1] INFO:Plotting -- RooAbsPdf::plotOn(model) indirectly selected PDF components: ()\r\n",
      "[#1] INFO:Plotting -- RooAbsPdf::plotOn(model) directly selected PDF components: (bkg,bkg_peak)\r\n",
      "[#1] INFO:Plotting -- RooAbsPdf::plotOn(model) indirectly selected PDF components: ()\r\n"
     ]
    },
    {
     "name": "stderr",
     "output_type": "stream",
     "text": [
      "Info in <TCanvas::Print>: png file /var/folders/sk/t5qncxyd1gjg61whtngc502r0000gn/T/tmpJ1XxZK.png has been created\r\n"
     ]
    }
   ],
   "source": [
    "xframe = x.frame()\n",
    "model.plotOn(xframe)\n",
    "bkg_component = ROOT.RooArgSet(bkg)\n",
    "bkg_peak_component = ROOT.RooArgSet(bkg,bkg_peak)\n",
    "model.plotOn(xframe,ROOT.RooFit.Components(bkg_component),ROOT.RooFit.LineStyle(2))\n",
    "model.plotOn(xframe,ROOT.RooFit.Components(bkg_peak_component),ROOT.RooFit.LineStyle(2),ROOT.RooFit.LineColor(2))\n",
    "xframe.Draw()\n",
    "c1"
   ]
  },
  {
   "cell_type": "markdown",
   "metadata": {},
   "source": [
    "In this example the usual pyROOT work around of explictitly redefining variables required to work arround the c++ overloading seems to break down because of differences in the C++ and python scoping rules. i.e. it accepts the component when passed to the plotOn function but then looses it before plotting. The work around it to define the component explicitly."
   ]
  },
  {
   "cell_type": "markdown",
   "metadata": {},
   "source": [
    "The methods for fitting and generating data from these models is identical to that in the previous notebook."
   ]
  },
  {
   "cell_type": "code",
   "execution_count": 9,
   "metadata": {
    "collapsed": false
   },
   "outputs": [
    {
     "data": {
      "text/plain": [
       "<ROOT.RooFitResult object at 0x0>"
      ]
     },
     "execution_count": 9,
     "metadata": {},
     "output_type": "execute_result"
    },
    {
     "name": "stdout",
     "output_type": "stream",
     "text": [
      "[#1] INFO:Minization --  The following expressions will be evaluated in cache-and-track mode: (bkg,bkg_peak,sig)\r\n",
      " MINUIT WARNING IN MIGrad    \r\n",
      " ============== VARIABLE1 IS AT ITS UPPER ALLOWED LIMIT.\r\n"
     ]
    }
   ],
   "source": [
    "data = model.generate(ROOT.RooArgSet(x),10000)\n",
    "model.fitTo(data,ROOT.RooFit.PrintLevel(-1))"
   ]
  },
  {
   "cell_type": "code",
   "execution_count": 10,
   "metadata": {
    "collapsed": false
   },
   "outputs": [
    {
     "data": {
      "image/png": "[encoded data removed]",
      "text/plain": [
       "<ROOT.TCanvas object (\"icanvas\") at 0x115b55d00>"
      ]
     },
     "execution_count": 10,
     "metadata": {},
     "output_type": "execute_result"
    },
    {
     "name": "stderr",
     "output_type": "stream",
     "text": [
      "Info in <TCanvas::Print>: png file /var/folders/sk/t5qncxyd1gjg61whtngc502r0000gn/T/tmphb1KVG.png has been created\r\n"
     ]
    }
   ],
   "source": [
    "xframe = x.frame(ROOT.RooFit.Title(\"data generated from composite\"))\n",
    "data.plotOn(xframe)\n",
    "model.plotOn(xframe)\n",
    "xframe.Draw()\n",
    "c1"
   ]
  },
  {
   "cell_type": "markdown",
   "metadata": {},
   "source": [
    "## Building Extended Composite Models"
   ]
  },
  {
   "cell_type": "markdown",
   "metadata": {},
   "source": [
    "plain component (non-extended) pdfs can be extended by specifying an equal number of components and coefficients."
   ]
  },
  {
   "cell_type": "code",
   "execution_count": 11,
   "metadata": {
    "collapsed": true
   },
   "outputs": [],
   "source": [
    "nsig = ROOT.RooRealVar(\"nsig\",\"signal fraction\",500,0.,10000.)\n",
    "nbkg = ROOT.RooRealVar(\"nbkg\",\"background fraction\",500,0.,10000.)\n",
    "\n",
    "model = ROOT.RooAddPdf(\"model\",\"extended model\",ROOT.RooArgList(sig,bkg),ROOT.RooArgList(nsig,nbkg))"
   ]
  },
  {
   "cell_type": "markdown",
   "metadata": {},
   "source": [
    "It's also possible to make a RooAddPdf from extended RooAddPdf's by simply not providing coefficients"
   ]
  },
  {
   "cell_type": "code",
   "execution_count": 12,
   "metadata": {
    "collapsed": true
   },
   "outputs": [],
   "source": [
    "esig = ROOT.RooExtendPdf(\"esig\",\"esig\",sig,nsig)\n",
    "ebkg = ROOT.RooExtendPdf(\"ebkg\",\"ebkg\",bkg,nbkg)\n",
    "\n",
    "model = ROOT.RooAddPdf(\"model\",\"model\",ROOT.RooArgList(esig,ebkg))"
   ]
  },
  {
   "cell_type": "markdown",
   "metadata": {},
   "source": [
    "The two definitions of 'model' above are functionally identical however the RooExtendPdf also offers extra functionality to interpret event counts in a different range."
   ]
  },
  {
   "cell_type": "code",
   "execution_count": 13,
   "metadata": {
    "collapsed": false
   },
   "outputs": [],
   "source": [
    "x = ROOT.RooRealVar(\"x\",\"x\",0,10)\n",
    "\n",
    "# narrow signal\n",
    "mean = ROOT.RooRealVar(\"mean\",\"mean\",5,0,10)\n",
    "sigma = ROOT.RooRealVar(\"sigma\",\"sigma\",0.3,0.,10.)\n",
    "sig = ROOT.RooGaussian(\"sig\",\"signal p.d.f.\",x,mean,sigma)\n",
    "\n",
    "# wide background\n",
    "coef0 = ROOT.RooRealVar(\"c0\",\"coefficient #0\",1.0,-1.,1)\n",
    "coef1 = ROOT.RooRealVar(\"c1\",\"coefficient #1\",0.1,-1.,1)\n",
    "coef2 = ROOT.RooRealVar(\"c2\",\"coefficient #2\",-0.1,-1.,1)\n",
    "bkg = ROOT.RooChebychev(\"bkg\",\"background p.d.f.\",x,ROOT.RooArgList(coef0,coef1,coef2))\n",
    "\n",
    "#peaked background\n",
    "mean_bkg = ROOT.RooRealVar(\"mean_bkg\",\"mean\",4.5,0,10)\n",
    "sigma_bkg = ROOT.RooRealVar(\"sigma_bkg\",\"sigma\",2,0.,10.)\n",
    "bkg_peak = ROOT.RooGaussian(\"bkg_peak\",\"peaking bkg p.d.f\",x,mean_bkg,sigma_bkg)\n",
    "\n",
    "#expected yeilds\n",
    "nsig = ROOT.RooRealVar(\"nsig\",\"n signal\",50,0,10000)\n",
    "nbkg = ROOT.RooRealVar(\"nbkg\",\"n background (non-peak)\",500,0,10000)\n",
    "nbkg_peak = ROOT.RooRealVar(\"nbkg_peak\",\"n background (peaked)\",450,0,10000)\n",
    "\n",
    "esig = ROOT.RooExtendPdf(\"esig\",\"esig\",sig,nsig)\n",
    "ebkg = ROOT.RooExtendPdf(\"ebkg\",\"ebkg\",bkg,nbkg)\n",
    "ebkg_peak = ROOT.RooExtendPdf(\"ebkg_peak\",\"ebkg_peak\",bkg_peak,nbkg_peak)\n",
    "\n",
    "model = ROOT.RooAddPdf(\"model\",\"model\",ROOT.RooArgList(esig,ebkg,ebkg_peak))\n",
    "\n",
    "data = model.generate(ROOT.RooArgSet(x),1000)"
   ]
  },
  {
   "cell_type": "markdown",
   "metadata": {},
   "source": [
    "Here I have generated 1000 events according to the model that expects 50 signal events, 450 peaked background events, and 500 broad spectrum background events. The composite p.d.f is built from extended pdfs."
   ]
  },
  {
   "cell_type": "code",
   "execution_count": 14,
   "metadata": {
    "collapsed": false
   },
   "outputs": [
    {
     "data": {
      "image/png": "[encoded data removed]",
      "text/plain": [
       "<ROOT.TCanvas object (\"icanvas\") at 0x115b55d00>"
      ]
     },
     "execution_count": 14,
     "metadata": {},
     "output_type": "execute_result"
    },
    {
     "name": "stdout",
     "output_type": "stream",
     "text": [
      "[#1] INFO:Plotting -- RooAbsPdf::plotOn(model) directly selected PDF components: (bkg)\r\n",
      "[#1] INFO:Plotting -- RooAbsPdf::plotOn(model) indirectly selected PDF components: (ebkg)\r\n",
      "[#1] INFO:Plotting -- RooAbsPdf::plotOn(model) directly selected PDF components: (bkg,bkg_peak)\r\n",
      "[#1] INFO:Plotting -- RooAbsPdf::plotOn(model) indirectly selected PDF components: (ebkg,ebkg_peak)\r\n"
     ]
    },
    {
     "name": "stderr",
     "output_type": "stream",
     "text": [
      "Info in <TCanvas::Print>: png file /var/folders/sk/t5qncxyd1gjg61whtngc502r0000gn/T/tmpWBXZlB.png has been created\r\n"
     ]
    }
   ],
   "source": [
    "xframe = x.frame()\n",
    "data.plotOn(xframe,ROOT.RooFit.Binning(10))\n",
    "model.plotOn(xframe)\n",
    "bkg_component = ROOT.RooArgSet(bkg)\n",
    "bkg_peak_component = ROOT.RooArgSet(bkg,bkg_peak)\n",
    "model.plotOn(xframe,ROOT.RooFit.Components(bkg_component),ROOT.RooFit.LineStyle(2))\n",
    "model.plotOn(xframe,ROOT.RooFit.Components(bkg_peak_component),ROOT.RooFit.LineStyle(2),ROOT.RooFit.LineColor(2))\n",
    "xframe.Draw()\n",
    "c1"
   ]
  },
  {
   "cell_type": "markdown",
   "metadata": {},
   "source": [
    "Now supposed we want to extrapolate the signal yeild in the range 4-6. "
   ]
  },
  {
   "cell_type": "code",
   "execution_count": 15,
   "metadata": {
    "collapsed": false
   },
   "outputs": [
    {
     "data": {
      "text/plain": [
       "49.957093966680326"
      ]
     },
     "execution_count": 15,
     "metadata": {},
     "output_type": "execute_result"
    },
    {
     "name": "stdout",
     "output_type": "stream",
     "text": [
      "[#1] INFO:Eval -- RooRealVar::setRange(x) new range named 'window' created with bounds [4,6]\r\n"
     ]
    }
   ],
   "source": [
    "x.setRange(\"window\",4,6)\n",
    "l=ROOT.RooArgSet(x)\n",
    "fracSigRange = sig.createIntegral(l,l,\"window\")\n",
    "nsigWindow = nsig.getVal()*fracSigRange.getVal()\n",
    "nsigWindow"
   ]
  },
  {
   "cell_type": "markdown",
   "metadata": {},
   "source": [
    "I think that's pretty close to the expected 50 events ;) However the errors on both the signal yield and the fraction of the shape integral would have to be propageded manually. RooExtendPdf however allows us the possibility to apply the transformation inside of the calculation such that the likelihood and therefore the fit result is expressed in terms of nsigWindow and all errors automatically propagated."
   ]
  },
  {
   "cell_type": "code",
   "execution_count": 16,
   "metadata": {
    "collapsed": true
   },
   "outputs": [],
   "source": [
    "nsigw = ROOT.RooRealVar(\"nsigw\",\"n signal in window\",50,0,10000)\n",
    "esig = ROOT.RooExtendPdf(\"esig\",\"esig\",sig,nsigw,\"window\")"
   ]
  },
  {
   "cell_type": "markdown",
   "metadata": {},
   "source": [
    "Now if we minimise the extended maximum likelihood, nsigw equals the best estimate for the number of events in the signal window\n",
    "$$N_{sig}^{expected}\\frac{N_{sig}^{window}}{\\int_4^6S(x)dx}$$"
   ]
  },
  {
   "cell_type": "markdown",
   "metadata": {},
   "source": [
    "## Using Extended Composite Models"
   ]
  },
  {
   "cell_type": "markdown",
   "metadata": {},
   "source": [
    "### Generating Events"
   ]
  },
  {
   "cell_type": "code",
   "execution_count": 17,
   "metadata": {
    "collapsed": true
   },
   "outputs": [],
   "source": [
    "x = ROOT.RooRealVar(\"x\",\"x\",0,10)\n",
    "\n",
    "# narrow signal\n",
    "mean = ROOT.RooRealVar(\"mean\",\"mean\",5,0,10)\n",
    "sigma = ROOT.RooRealVar(\"sigma\",\"sigma\",0.3,0.,10.)\n",
    "sig = ROOT.RooGaussian(\"sig\",\"signal p.d.f.\",x,mean,sigma)\n",
    "\n",
    "# wide background\n",
    "coef0 = ROOT.RooRealVar(\"c0\",\"coefficient #0\",1.0,-1.,1)\n",
    "coef1 = ROOT.RooRealVar(\"c1\",\"coefficient #1\",0.1,-1.,1)\n",
    "coef2 = ROOT.RooRealVar(\"c2\",\"coefficient #2\",-0.1,-1.,1)\n",
    "bkg = ROOT.RooChebychev(\"bkg\",\"background p.d.f.\",x,ROOT.RooArgList(coef0,coef1,coef2))\n",
    "\n",
    "#peaked background\n",
    "mean_bkg = ROOT.RooRealVar(\"mean_bkg\",\"mean\",4.5,0,10)\n",
    "sigma_bkg = ROOT.RooRealVar(\"sigma_bkg\",\"sigma\",2,0.,10.)\n",
    "bkg_peak = ROOT.RooGaussian(\"bkg_peak\",\"peaking bkg p.d.f\",x,mean_bkg,sigma_bkg)\n",
    "\n",
    "#expected yeilds\n",
    "nsig = ROOT.RooRealVar(\"nsig\",\"n signal\",50,0,10000)\n",
    "nbkg = ROOT.RooRealVar(\"nbkg\",\"n background (non-peak)\",500,0,10000)\n",
    "nbkg_peak = ROOT.RooRealVar(\"nbkg_peak\",\"n background (peaked)\",450,0,10000)\n",
    "\n",
    "esig = ROOT.RooExtendPdf(\"esig\",\"esig\",sig,nsig)\n",
    "ebkg = ROOT.RooExtendPdf(\"ebkg\",\"ebkg\",bkg,nbkg)\n",
    "ebkg_peak = ROOT.RooExtendPdf(\"ebkg_peak\",\"ebkg_peak\",bkg_peak,nbkg_peak)\n",
    "\n",
    "model = ROOT.RooAddPdf(\"model\",\"model\",ROOT.RooArgList(esig,ebkg,ebkg_peak))\n",
    "\n",
    "data = model.generate(ROOT.RooArgSet(x),1000)"
   ]
  },
  {
   "cell_type": "markdown",
   "metadata": {},
   "source": [
    "In the above example I explicitly generated 1000 events since this is what was predicted by the model. This can simply be omitted."
   ]
  },
  {
   "cell_type": "code",
   "execution_count": 18,
   "metadata": {
    "collapsed": true
   },
   "outputs": [],
   "source": [
    "data = model.generate(ROOT.RooArgSet(x))"
   ]
  },
  {
   "cell_type": "markdown",
   "metadata": {},
   "source": [
    "Keep in mind that in the lines above x was in windowed mode, so either skip that re-definition or redefine x here.\n",
    "\n",
    "By omiting the number of events, the number predicted by the p.d.f. is given. You can optionally introduce a Poisson fluctuation in the number of generated events by using the Extended() argument in RooFit. this is useful in the case of generating samples for a study looking at pull distributions. In this case a Poisson fluctuation on the total number of events generated should be present. "
   ]
  },
  {
   "cell_type": "code",
   "execution_count": 19,
   "metadata": {
    "collapsed": true
   },
   "outputs": [],
   "source": [
    "data = model.generate(ROOT.RooArgSet(x),ROOT.RooFit.Extended(ROOT.kTRUE))"
   ]
  },
  {
   "cell_type": "markdown",
   "metadata": {},
   "source": [
    "### Fitting"
   ]
  },
  {
   "cell_type": "markdown",
   "metadata": {},
   "source": [
    "In principle, fitting is also done as before however composite extended p.d.f's can only be sucessfully fit if the extended likelihood term is included in the minimisation, because of the extra degree of freedom that is constrained by this term. If a p.d.f. is capable of calculating this extra term (e.g. any extended RooAddPdf object) the extended term is automatically included in the likelihood calculation. You can manually override this using the Extended() argument from RooFit"
   ]
  },
  {
   "cell_type": "code",
   "execution_count": 20,
   "metadata": {
    "collapsed": false
   },
   "outputs": [
    {
     "data": {
      "text/plain": [
       "<ROOT.RooFitResult object at 0x0>"
      ]
     },
     "execution_count": 20,
     "metadata": {},
     "output_type": "execute_result"
    },
    {
     "name": "stdout",
     "output_type": "stream",
     "text": [
      "[#1] INFO:Minization --  The following expressions will be evaluated in cache-and-track mode: (esig,ebkg,ebkg_peak)\r\n",
      " MINUIT WARNING IN MIGrad    \r\n",
      " ============== VARIABLE1 IS AT ITS UPPER ALLOWED LIMIT.\r\n"
     ]
    }
   ],
   "source": [
    "model.fitTo(data,ROOT.RooFit.Extended(ROOT.kTRUE),ROOT.RooFit.PrintLevel(-1))"
   ]
  },
  {
   "cell_type": "markdown",
   "metadata": {},
   "source": [
    "### Plotting"
   ]
  },
  {
   "cell_type": "markdown",
   "metadata": {},
   "source": [
    "Default plotting for extended likelihood models is the same as for regular pdfs. The event count used for normalisation is that of the last dataset added to the plot frame (not the first as in TH1.Draw() ) There is the option to override this behaviour and use the expected event count of the pdf for the normalisation"
   ]
  },
  {
   "cell_type": "code",
   "execution_count": 21,
   "metadata": {
    "collapsed": false
   },
   "outputs": [
    {
     "data": {
      "image/png": "[encoded data removed]",
      "text/plain": [
       "<ROOT.TCanvas object (\"icanvas\") at 0x115b55d00>"
      ]
     },
     "execution_count": 21,
     "metadata": {},
     "output_type": "execute_result"
    },
    {
     "name": "stderr",
     "output_type": "stream",
     "text": [
      "Info in <TCanvas::Print>: png file /var/folders/sk/t5qncxyd1gjg61whtngc502r0000gn/T/tmp4Xbxh0.png has been created\r\n"
     ]
    }
   ],
   "source": [
    "xframe = x.frame()\n",
    "model.plotOn(xframe,ROOT.RooFit.Normalization(1.,ROOT.RooAbsReal.ScaleType(3)))\n",
    "xframe.Draw()\n",
    "c1"
   ]
  },
  {
   "cell_type": "markdown",
   "metadata": {},
   "source": [
    "### Note on the Interpretation of fraction coefficients and ranges"
   ]
  },
  {
   "cell_type": "markdown",
   "metadata": {},
   "source": [
    "A closer look at the expression for composite p.d.f's\n",
    "$$M(x)=\\sum^{N-1}_{i=1}f_1F_1(x)+\\left(1-\\sum^{N-1}_{i=1}f_1\\right)F_N(x)$$\n",
    "shows that the fraction coefficients multiply normalized p.d.f's shapes, which has important consequences for the interpretation of these fraction coefficients: if the range of an observable is changed, the *shape* of the p.d.f. will change."
   ]
  },
  {
   "cell_type": "code",
   "execution_count": 22,
   "metadata": {
    "collapsed": false
   },
   "outputs": [],
   "source": [
    "x = ROOT.RooRealVar(\"x\",\"x\",-10,10)\n",
    "\n",
    "mean = ROOT.RooRealVar(\"mean\",\"mean\",0,-10,10)\n",
    "sigma = ROOT.RooRealVar(\"sigma\",\"sigma\",2,0.,10)\n",
    "sig = ROOT.RooGaussian(\"sig\",\"signal p.d.f.\",x,mean,sigma)\n",
    "\n",
    "coef0 = ROOT.RooRealVar(\"c0\",\"coefficient #0\",1.0,-10.,10)\n",
    "coef1 = ROOT.RooRealVar(\"c1\",\"coefficient #1\",0.1,-10.,10)\n",
    "coef2 = ROOT.RooRealVar(\"c2\",\"coefficient #2\",-0.1,-10.,10)\n",
    "bkg = ROOT.RooChebychev(\"bkg\",\"background p.d.f.\",x,ROOT.RooArgList(coef0,coef1,coef2))\n",
    "\n",
    "fsig = ROOT.RooRealVar(\"fsig\",\"signal fraction\",0.5,0.,1.)\n",
    "\n",
    "# model(x) = fsig*sig(x) + (1-fsig)*bkg(x)\n",
    "model = ROOT.RooAddPdf(\"model\",\"model\",ROOT.RooArgList(sig,bkg),ROOT.RooArgList(fsig))"
   ]
  },
  {
   "cell_type": "code",
   "execution_count": 23,
   "metadata": {
    "collapsed": false
   },
   "outputs": [
    {
     "data": {
      "image/png": "[encoded data removed]",
      "text/plain": [
       "<ROOT.TCanvas object (\"icanvas\") at 0x115b55d00>"
      ]
     },
     "execution_count": 23,
     "metadata": {},
     "output_type": "execute_result"
    },
    {
     "name": "stdout",
     "output_type": "stream",
     "text": [
      "[#1] INFO:Plotting -- RooAbsPdf::plotOn(model) directly selected PDF components: (bkg)\r\n",
      "[#1] INFO:Plotting -- RooAbsPdf::plotOn(model) indirectly selected PDF components: ()\r\n"
     ]
    },
    {
     "name": "stderr",
     "output_type": "stream",
     "text": [
      "Info in <TCanvas::Print>: png file /var/folders/sk/t5qncxyd1gjg61whtngc502r0000gn/T/tmpwEdKsC.png has been created\r\n"
     ]
    }
   ],
   "source": [
    "xframe = x.frame()\n",
    "model.plotOn(xframe)\n",
    "bkg_component = ROOT.RooArgSet(bkg)\n",
    "model.plotOn(xframe,ROOT.RooFit.Components(bkg_component),ROOT.RooFit.LineStyle(2))\n",
    "xframe.Draw()\n",
    "c1"
   ]
  },
  {
   "cell_type": "code",
   "execution_count": 24,
   "metadata": {
    "collapsed": false
   },
   "outputs": [
    {
     "data": {
      "image/png": "[encoded data removed]",
      "text/plain": [
       "<ROOT.TCanvas object (\"icanvas\") at 0x115b55d00>"
      ]
     },
     "execution_count": 24,
     "metadata": {},
     "output_type": "execute_result"
    },
    {
     "name": "stdout",
     "output_type": "stream",
     "text": [
      "[#1] INFO:Plotting -- RooAbsPdf::plotOn(model) directly selected PDF components: (bkg)\r\n",
      "[#1] INFO:Plotting -- RooAbsPdf::plotOn(model) indirectly selected PDF components: ()\r\n"
     ]
    },
    {
     "name": "stderr",
     "output_type": "stream",
     "text": [
      "Info in <TCanvas::Print>: png file /var/folders/sk/t5qncxyd1gjg61whtngc502r0000gn/T/tmpM2qe0v.png has been created\r\n"
     ]
    }
   ],
   "source": [
    "x.setRange(-5,5)\n",
    "xframe = x.frame()\n",
    "model.plotOn(xframe)\n",
    "model.plotOn(xframe,ROOT.RooFit.Components(bkg_component),ROOT.RooFit.LineStyle(2))\n",
    "xframe.Draw()\n",
    "c1"
   ]
  },
  {
   "cell_type": "markdown",
   "metadata": {},
   "source": [
    "## Navigation Tools for Dealing with Composite Objects"
   ]
  },
  {
   "cell_type": "markdown",
   "metadata": {},
   "source": [
    "One of the added complications of using composite model versus using basic p.d.f.s is that you no longer know what the variables of your model are. RooFit provides several tools for dealing with composite objects when you only have direct access to the top-level node of the expression tree, i.e. the model object in the preceding examples."
   ]
  },
  {
   "cell_type": "markdown",
   "metadata": {},
   "source": [
    "### What are the Variables of My Model"
   ]
  },
  {
   "cell_type": "markdown",
   "metadata": {},
   "source": [
    "Given any composite RooFit value object, the getVariables() method returns you a RooArgSet with all parameters of your model"
   ]
  },
  {
   "cell_type": "code",
   "execution_count": 25,
   "metadata": {
    "collapsed": false
   },
   "outputs": [
    {
     "name": "stdout",
     "output_type": "stream",
     "text": [
      "  1) 0x117e44190 RooRealVar::    c0 = 1  L(-10 - 10)  \"coefficient #0\"\r\n",
      "  2) 0x117e44540 RooRealVar::    c1 = 0.1  L(-10 - 10)  \"coefficient #1\"\r\n",
      "  3) 0x117e448f0 RooRealVar::    c2 = -0.1  L(-10 - 10)  \"coefficient #2\"\r\n",
      "  4) 0x117e44ca0 RooRealVar::  fsig = 0.5  L(0 - 1)  \"signal fraction\"\r\n",
      "  5) 0x117e43a30 RooRealVar::  mean = 0  L(-10 - 10)  \"mean\"\r\n",
      "  6) 0x117e43de0 RooRealVar:: sigma = 2  L(0 - 10)  \"sigma\"\r\n",
      "  7) 0x117e67300 RooRealVar::     x = 0  L(-5 - 5)  \"x\"\r\n"
     ]
    }
   ],
   "source": [
    "model.getVariables().Print(\"v\")"
   ]
  },
  {
   "cell_type": "markdown",
   "metadata": {},
   "source": [
    "If you know the name of a variable, you can retrieve a pointer to the object through the find() method of RooArgSet:"
   ]
  },
  {
   "cell_type": "code",
   "execution_count": 26,
   "metadata": {
    "collapsed": false
   },
   "outputs": [],
   "source": [
    "c0 = model.getVariables().find(\"c0\") \n",
    "c0.setVal(5.3) "
   ]
  },
  {
   "cell_type": "markdown",
   "metadata": {},
   "source": [
    "Although sets can contain any RooFit value type (any class derived from RooAbsArg) one deals in practice usually with sets of all RooRealVars. Therefore class RooArgSet is equipped with some special member functions to simplify operations on such sets. The above example can be shortened to"
   ]
  },
  {
   "cell_type": "code",
   "execution_count": 27,
   "metadata": {
    "collapsed": false
   },
   "outputs": [
    {
     "data": {
      "text/plain": [
       "False"
      ]
     },
     "execution_count": 27,
     "metadata": {},
     "output_type": "execute_result"
    }
   ],
   "source": [
    "model.getVariables().setRealValue(\"c0\",-15.3)"
   ]
  },
  {
   "cell_type": "markdown",
   "metadata": {},
   "source": [
    "Interestingly the value this is set to must be within the range of the parameter or else that limit is returned"
   ]
  },
  {
   "cell_type": "code",
   "execution_count": 28,
   "metadata": {
    "collapsed": false
   },
   "outputs": [
    {
     "data": {
      "text/plain": [
       "-10.0"
      ]
     },
     "execution_count": 28,
     "metadata": {},
     "output_type": "execute_result"
    }
   ],
   "source": [
    "c0.getVal()"
   ]
  },
  {
   "cell_type": "markdown",
   "metadata": {},
   "source": [
    "### What is the structure of my composite model?\n",
    "In addition to manipulation of the parameters one may also wonder what the structure of a given model is. For an easy visual inspection of the tree structure use the tree printing mode"
   ]
  },
  {
   "cell_type": "code",
   "execution_count": 29,
   "metadata": {
    "collapsed": false
   },
   "outputs": [
    {
     "name": "stdout",
     "output_type": "stream",
     "text": [
      "0x1170b4200 RooAddPdf::model = 0.95 [Auto,Dirty] \r\n",
      "  0x11700ea00/V- RooGaussian::sig = 1 [Auto,Dirty] \r\n",
      "    0x117e67300/V- RooRealVar::x = 0\r\n",
      "    0x117e43a30/V- RooRealVar::mean = 0\r\n",
      "    0x117e43de0/V- RooRealVar::sigma = 2\r\n",
      "  0x117e44ca0/V- RooRealVar::fsig = 0.5\r\n",
      "  0x1170dbc00/V- RooChebychev::bkg = 0.9 [Auto,Dirty] \r\n",
      "    0x117e67300/V- RooRealVar::x = 0\r\n",
      "    0x117e44190/V- RooRealVar::c0 = -10\r\n",
      "    0x117e44540/V- RooRealVar::c1 = 0.1\r\n",
      "    0x117e448f0/V- RooRealVar::c2 = -0.1\r\n"
     ]
    }
   ],
   "source": [
    "model.Print(\"t\")"
   ]
  },
  {
   "cell_type": "markdown",
   "metadata": {},
   "source": [
    "For each lists object you will see the pointer to the object, following by the class name and object name and finally the object title in parentheses.\n",
    "A composite object tree is traversed top-down using a depth-first algorithm. With each node traversal the indentation of the printout is increased. This traversal method implies that the same object mayappear more than once in this printout if it is referenced in more than one place. See e.g. the multiple reference of observable x in the example above.\n",
    "\n",
    "The set of components of a p.d.f can also be accessed through the utility method getComponents(), which will return all the ‘branch’ nodes of its expression tree and is the complement of getVariables(), which returns the ‘leaf’ nodes. The example below illustrates the use of getComponents() to only print out the variables of model component “sig”:"
   ]
  },
  {
   "cell_type": "code",
   "execution_count": 30,
   "metadata": {
    "collapsed": false
   },
   "outputs": [
    {
     "name": "stdout",
     "output_type": "stream",
     "text": [
      "RooArgSet::parameters = (mean,sigma,x)\r\n"
     ]
    }
   ],
   "source": [
    "components = model.getComponents()\n",
    "sig = components.find(\"sig\")\n",
    "sigVars = sig.getVariables()\n",
    "\n",
    "sigVars.Print()"
   ]
  },
  {
   "cell_type": "markdown",
   "metadata": {},
   "source": [
    "### Graphic representation of the structure of a composite model\n",
    "A graphic representation of a models structure can be constructed with aid of the GraphViz suite of graph visualization tools7. You can write a file with a GraphViz representation of a tree structure of any composite object using the method RooAbsArg::graphVizTree():"
   ]
  },
  {
   "cell_type": "code",
   "execution_count": 31,
   "metadata": {
    "collapsed": false
   },
   "outputs": [],
   "source": [
    "model.graphVizTree(\"model.dot\")"
   ]
  },
  {
   "cell_type": "markdown",
   "metadata": {},
   "source": [
    "Then GraphViz tools needs to be instaled. on unix the command \n",
    "> dot -Tgif -o model.gif model.dot     # Directed graph\n",
    "\n",
    "This produces the image: <img src=\"model.gif\">\n",
    "\n",
    "Whereas a spring balanced model is produced by the command\n",
    "> fdp -Tgif -o model_fdp.gif model.dot     # Directed graph\n",
    "\n",
    "As seen here: <img src=\"model_fdp.gif\">"
   ]
  }
 ],
 "metadata": {
  "kernelspec": {
   "display_name": "Python 2",
   "language": "python",
   "name": "python2"
  },
  "language_info": {
   "codemirror_mode": {
    "name": "ipython",
    "version": 2
   },
   "file_extension": ".py",
   "mimetype": "text/x-python",
   "name": "python",
   "nbconvert_exporter": "python",
   "pygments_lexer": "ipython2",
   "version": "2.7.9"
  }
 },
 "nbformat": 4,
 "nbformat_minor": 0
}
