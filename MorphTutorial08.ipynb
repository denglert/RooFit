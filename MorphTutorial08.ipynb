{
 "cells": [
  {
   "cell_type": "code",
   "execution_count": 1,
   "metadata": {
    "collapsed": false
   },
   "outputs": [],
   "source": [
    "import ROOT\n",
    "import rootnotes\n",
    "c1 = rootnotes.default_canvas()"
   ]
  },
  {
   "cell_type": "code",
   "execution_count": 2,
   "metadata": {
    "collapsed": false
   },
   "outputs": [],
   "source": [
    "identifier = \"ggfZZ\" # avaliable: ggfWW, vbfWW, vbfZZ, ggfZZ, vbfMuMu \n",
    "infilename = \"/eos/user/v/vcroft/morphingInputs/ggfhzz4l_2d.root\" # give the input file name here\n",
    "observable = \"base/phi\" # name of the observable to be used (histogram name)"
   ]
  },
  {
   "cell_type": "markdown",
   "metadata": {},
   "source": [
    "names of input samples"
   ]
  },
  {
   "cell_type": "code",
   "execution_count": 3,
   "metadata": {
    "collapsed": false
   },
   "outputs": [],
   "source": [
    "samplelist = [\"s1\",\"s2\",\"s3\"]\n",
    "# these are the validation samples: \"v0\",\"v1\""
   ]
  },
  {
   "cell_type": "markdown",
   "metadata": {},
   "source": [
    "push all the input samples in a RooArgList"
   ]
  },
  {
   "cell_type": "code",
   "execution_count": 4,
   "metadata": {
    "collapsed": false
   },
   "outputs": [],
   "source": [
    "inputs = ROOT.RooArgList()"
   ]
  },
  {
   "cell_type": "markdown",
   "metadata": {},
   "source": [
    "we need the additional list \"inputnames\" to prevent the python garbage collector from deleting the RooStringVars"
   ]
  },
  {
   "cell_type": "code",
   "execution_count": 5,
   "metadata": {
    "collapsed": false
   },
   "outputs": [],
   "source": [
    "inputnames = []\n",
    "for sample in samplelist:\n",
    "    v = ROOT.RooStringVar(sample,sample,sample)\n",
    "    inputnames.append(v)\n",
    "    inputs.add(v)"
   ]
  },
  {
   "cell_type": "markdown",
   "metadata": {},
   "source": [
    "setup predefined morphfunc by hand"
   ]
  },
  {
   "cell_type": "code",
   "execution_count": 6,
   "metadata": {
    "collapsed": false
   },
   "outputs": [],
   "source": [
    "morphfunc = ROOT.RooHCggfZZMorphFunc(identifier,identifier,infilename,observable,inputs)"
   ]
  },
  {
   "cell_type": "code",
   "execution_count": 7,
   "metadata": {
    "collapsed": false
   },
   "outputs": [],
   "source": [
    "standardmodel = \"s1\"\n",
    "morphfunc.setParameters(standardmodel)"
   ]
  },
  {
   "cell_type": "markdown",
   "metadata": {},
   "source": [
    "loop over the input samples"
   ]
  },
  {
   "cell_type": "code",
   "execution_count": 8,
   "metadata": {
    "collapsed": false
   },
   "outputs": [],
   "source": [
    "ymin = 0.\n",
    "ymax = 0.\n",
    "graphs = []\n",
    "for s in samplelist:\n",
    "  # retrieve the weight of the corresponding input sample\n",
    "  w = morphfunc.getSampleWeight(s)\n",
    "  g = ROOT.TGraphErrors()\n",
    "  g.SetTitle(s)\n",
    "  # scan over a couple of points to fill the graph\n",
    "  for i,xval in enumerate(range(-5,5)):\n",
    "      morphfunc.setParameter(\"kAzz\",xval)\n",
    "      yval = w.getVal()\n",
    "      g.SetPoint(i,xval,yval)\n",
    "      ymax = max(yval,ymax)\n",
    "      ymin = min(yval,ymin)\n",
    "      i = i + 1\n",
    "  graphs.append(g)"
   ]
  },
  {
   "cell_type": "markdown",
   "metadata": {},
   "source": [
    "now plot everything"
   ]
  },
  {
   "cell_type": "code",
   "execution_count": 9,
   "metadata": {
    "collapsed": false
   },
   "outputs": [
    {
     "data": {
      "image/png": "[encoded data removed]",
      "text/plain": [
       "<ROOT.TCanvas object (\"icanvas\") at 0x230e800>"
      ]
     },
     "execution_count": 9,
     "metadata": {},
     "output_type": "execute_result"
    }
   ],
   "source": [
    "leg = ROOT.TLegend(0.7,0.7,0.9,0.9)\n",
    "counter = 0\n",
    "ymin = min(0.9*ymin,1.1*ymin)\n",
    "ymax = 1.1*ymax\n",
    "ROOT.gStyle.SetOptTitle(False)\n",
    "for g in graphs:\n",
    "    g.SetLineColor(counter+1)\n",
    "    leg.AddEntry(g,g.GetTitle(),\"l\")\n",
    "    if counter==0:\n",
    "        g.GetYaxis().SetRangeUser(ymin,ymax)\n",
    "        g.Draw(\"AL\")\n",
    "        g.GetXaxis().SetTitle(\"#kappa_{AZZ}\")\n",
    "        g.GetYaxis().SetTitle(\"sample weight\")\n",
    "    else:\n",
    "        g.Draw(\"L\")\n",
    "    counter = counter+1\n",
    "leg.Draw()\n",
    "c1"
   ]
  },
  {
   "cell_type": "code",
   "execution_count": null,
   "metadata": {
    "collapsed": true
   },
   "outputs": [],
   "source": []
  }
 ],
 "metadata": {
  "kernelspec": {
   "display_name": "Python 2",
   "language": "python",
   "name": "python2"
  },
  "language_info": {
   "codemirror_mode": {
    "name": "ipython",
    "version": 2
   },
   "file_extension": ".py",
   "mimetype": "text/x-python",
   "name": "python",
   "nbconvert_exporter": "python",
   "pygments_lexer": "ipython2",
   "version": "2.7.13"
  }
 },
 "nbformat": 4,
 "nbformat_minor": 0
}
