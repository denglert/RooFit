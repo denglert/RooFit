{
 "cells": [
  {
   "cell_type": "code",
   "execution_count": 1,
   "metadata": {
    "collapsed": false
   },
   "outputs": [],
   "source": [
    "import ROOT\n",
    "import rootnotes\n",
    "c1 = rootnotes.default_canvas()"
   ]
  },
  {
   "cell_type": "code",
   "execution_count": 2,
   "metadata": {
    "collapsed": false
   },
   "outputs": [],
   "source": [
    "identifier = \"vbfWW\" # avaliable: ggfWW, vbfWW, vbfZZ, ggfZZ, vbfMuMu \n",
    "infilename = \"/eos/user/v/vcroft/morphingInputs/vbfhwwlvlv_3d.root\" # give the input file name here\n",
    "observable = \"twoSelJets/dphijj\" # name of the observable to be used (histogram name)"
   ]
  },
  {
   "cell_type": "markdown",
   "metadata": {},
   "source": [
    "names of input samples"
   ]
  },
  {
   "cell_type": "code",
   "execution_count": 3,
   "metadata": {
    "collapsed": false
   },
   "outputs": [],
   "source": [
    "samplelist = [\"kAwwkHwwkSM0\",\"kAwwkHwwkSM1\",\"kAwwkHwwkSM10\",\"\",\"kAwwkHwwkSM11\",\"kAwwkHwwkSM12\",\"kAwwkHwwkSM13\",\"kAwwkHwwkSM2\",\"kAwwkHwwkSM3\",\"kAwwkHwwkSM4\",\"kAwwkHwwkSM5\",\"kAwwkHwwkSM6\",\"kAwwkHwwkSM7\",\"kAwwkHwwkSM8\",\"kAwwkHwwkSM9\",\"kSM0\"]\n",
    "# these are the validation samples: \"v0\",\"v1\",\"v2\",\"v3\",\"v4\",\"v5\",\"v6\",\"v7\",\"v8\",\"v9\""
   ]
  },
  {
   "cell_type": "markdown",
   "metadata": {},
   "source": [
    "Set up morphing function with workspace\n",
    "\n",
    "first we set up a workspace factory object. The long string defines the ROOT morphing function from root the rest is name, location of the inputs, variable and all the parameters. \n",
    "\n",
    "I print the workspace to make sure it reads it ok."
   ]
  },
  {
   "cell_type": "code",
   "execution_count": 4,
   "metadata": {
    "collapsed": false
   },
   "outputs": [],
   "source": [
    "w = ROOT.RooWorkspace(\"w\",\"morphfunc\")\n",
    "wsstr = \"RooHC\"+identifier+\"MorphFunc::\"+identifier+\"('\"+infilename+\"','\"+observable+\"','\"+samplelist[0]+\"',{\"+\",\".join([\"'\"+x+\"'\" for x in samplelist])+\"})\"\n",
    "w.factory(wsstr)\n",
    "w.Print()"
   ]
  },
  {
   "cell_type": "markdown",
   "metadata": {},
   "source": [
    "now make the function from the factory object"
   ]
  },
  {
   "cell_type": "code",
   "execution_count": 5,
   "metadata": {
    "collapsed": false
   },
   "outputs": [
    {
     "name": "stdout",
     "output_type": "stream",
     "text": [
      "writing workspace\n"
     ]
    }
   ],
   "source": [
    "morphfunc = w.obj(identifier)\n",
    "if not morphfunc:\n",
    "    print(\"failure to create morphing function!\")\n",
    "else:\n",
    "    print \"writing workspace\"\n",
    "    w.writeToFile(\"workspace.root\",True)"
   ]
  },
  {
   "cell_type": "markdown",
   "metadata": {},
   "source": [
    "get morphfunc from workspace"
   ]
  },
  {
   "cell_type": "code",
   "execution_count": 6,
   "metadata": {
    "collapsed": false,
    "scrolled": true
   },
   "outputs": [
    {
     "name": "stderr",
     "output_type": "stream",
     "text": [
      "TBufferFile::CheckObject:0: RuntimeWarning: reference to object of unavailable class TObject, offset=147457 pointer will be 0\n",
      "TBufferFile::CheckObject:0: RuntimeWarning: reference to object of unavailable class TObject, offset=13963 pointer will be 0\n",
      "TBufferFile::CheckObject:0: RuntimeWarning: reference to object of unavailable class TObject, offset=14257 pointer will be 0\n",
      "TBufferFile::CheckObject:0: RuntimeWarning: reference to object of unavailable class TObject, offset=14561 pointer will be 0\n",
      "TBufferFile::CheckObject:0: RuntimeWarning: reference to object of unavailable class TObject, offset=14890 pointer will be 0\n",
      "TBufferFile::CheckObject:0: RuntimeWarning: reference to object of unavailable class TObject, offset=15217 pointer will be 0\n",
      "TBufferFile::CheckObject:0: RuntimeWarning: reference to object of unavailable class TObject, offset=15562 pointer will be 0\n",
      "TBufferFile::CheckObject:0: RuntimeWarning: reference to object of unavailable class TObject, offset=15898 pointer will be 0\n",
      "TBufferFile::CheckObject:0: RuntimeWarning: reference to object of unavailable class TObject, offset=16248 pointer will be 0\n",
      "TBufferFile::CheckObject:0: RuntimeWarning: reference to object of unavailable class TObject, offset=16606 pointer will be 0\n",
      "TBufferFile::CheckObject:0: RuntimeWarning: reference to object of unavailable class TObject, offset=16966 pointer will be 0\n",
      "TBufferFile::CheckObject:0: RuntimeWarning: reference to object of unavailable class TObject, offset=17329 pointer will be 0\n",
      "TBufferFile::CheckObject:0: RuntimeWarning: reference to object of unavailable class TObject, offset=17706 pointer will be 0\n",
      "TBufferFile::CheckObject:0: RuntimeWarning: reference to object of unavailable class TObject, offset=18107 pointer will be 0\n",
      "TBufferFile::CheckObject:0: RuntimeWarning: reference to object of unavailable class TObject, offset=18500 pointer will be 0\n",
      "TBufferFile::CheckObject:0: RuntimeWarning: reference to object of unavailable class TObject, offset=13672 pointer will be 0\n"
     ]
    }
   ],
   "source": [
    "workspacefile = ROOT.TFile.Open(\"workspace.root\",\"READ\")\n",
    "w = workspacefile.Get(\"w\")\n",
    "morphfunc = w.obj(identifier)\n",
    "workspacefile.Close()"
   ]
  },
  {
   "cell_type": "markdown",
   "metadata": {},
   "source": [
    "morph to the validation sample v1"
   ]
  },
  {
   "cell_type": "code",
   "execution_count": 7,
   "metadata": {
    "collapsed": false
   },
   "outputs": [],
   "source": [
    "validationsample = \"v1\"\n",
    "morphfunc.setParameters(validationsample)\n",
    "morphing = morphfunc.createTH1(\"morphing\")"
   ]
  },
  {
   "cell_type": "markdown",
   "metadata": {},
   "source": [
    "open the input file to get the validation histogram for comparison"
   ]
  },
  {
   "cell_type": "code",
   "execution_count": 8,
   "metadata": {
    "collapsed": false
   },
   "outputs": [],
   "source": [
    "tfile = ROOT.TFile.Open(infilename,\"READ\")\n",
    "folder = tfile.Get(validationsample)\n",
    "validation = folder.FindObject(observable)\n",
    "validation.SetDirectory(0)\n",
    "validation.SetTitle(validationsample)\n",
    "tfile.Close()"
   ]
  },
  {
   "cell_type": "markdown",
   "metadata": {},
   "source": [
    "setup the fit"
   ]
  },
  {
   "cell_type": "code",
   "execution_count": 9,
   "metadata": {
    "collapsed": false
   },
   "outputs": [],
   "source": [
    "target = ROOT.RooLagrangianMorphFunc.makeDataHistogram(validation,morphfunc.getObservable(),\"validation\") # convert the target to a RooDataHist\n",
    "morphfunc.setParameters(validationsample)\n",
    "morphfunc.setParameterConstant(\"Lambda\",True)\n",
    "morphfunc.setParameterConstant(\"cosa\",True)\n",
    "morphfunc.randomizeParameters(2) # randomize the parameters by 2 standard deviations to give the fit something to do\n",
    "morphfunc.printParameters()\n",
    "morphfunc.getPdf().fitTo(target,ROOT.RooFit.SumW2Error(True),ROOT.RooFit.Optimize(False)) # run the fit\n",
    "morphfunc.printParameters()\n",
    "fitresult = morphfunc.createTH1(\"fit result\")"
   ]
  },
  {
   "cell_type": "markdown",
   "metadata": {},
   "source": [
    "make the plot"
   ]
  },
  {
   "cell_type": "code",
   "execution_count": 10,
   "metadata": {
    "collapsed": false
   },
   "outputs": [
    {
     "data": {
      "image/png": "[encoded data removed]",
      "text/plain": [
       "<ROOT.TCanvas object (\"icanvas\") at 0x39a04a0>"
      ]
     },
     "execution_count": 10,
     "metadata": {},
     "output_type": "execute_result"
    }
   ],
   "source": [
    "ROOT.gStyle.SetOptStat(0)\n",
    "ROOT.gStyle.SetOptTitle(0)\n",
    "morphing.GetXaxis().SetTitle(observable)\n",
    "morphing.SetLineColor(2)\n",
    "morphing.SetFillColor(2)\n",
    "morphing.Draw(\"E3\")\n",
    "fitresult.SetLineColor(1);\n",
    "fitresult.SetMarkerColor(1);\n",
    "fitresult.SetMarkerStyle(20);\n",
    "fitresult.Draw(\"PSAME\");\n",
    "validation.Draw(\"SAME\")\n",
    "leg = ROOT.TLegend(0.7,0.7,0.9,0.9)\n",
    "leg.AddEntry(fitresult)\n",
    "leg.AddEntry(morphing)\n",
    "leg.AddEntry(validation)\n",
    "leg.Draw()\n",
    "c1"
   ]
  },
  {
   "cell_type": "code",
   "execution_count": null,
   "metadata": {
    "collapsed": false
   },
   "outputs": [],
   "source": []
  }
 ],
 "metadata": {
  "kernelspec": {
   "display_name": "Python 2",
   "language": "python",
   "name": "python2"
  },
  "language_info": {
   "codemirror_mode": {
    "name": "ipython",
    "version": 2
   },
   "file_extension": ".py",
   "mimetype": "text/x-python",
   "name": "python",
   "nbconvert_exporter": "python",
   "pygments_lexer": "ipython2",
   "version": "2.7.13"
  }
 },
 "nbformat": 4,
 "nbformat_minor": 0
}
